{
 "cells": [
  {
   "cell_type": "code",
   "execution_count": 3,
   "metadata": {},
   "outputs": [
    {
     "name": "stdout",
     "output_type": "stream",
     "text": [
      "Hello World\n"
     ]
    }
   ],
   "source": [
    "print(\"Hello World\")"
   ]
  },
  {
   "cell_type": "code",
   "execution_count": 4,
   "metadata": {},
   "outputs": [],
   "source": [
    "import requests"
   ]
  },
  {
   "cell_type": "code",
   "execution_count": 5,
   "metadata": {},
   "outputs": [
    {
     "data": {
      "text/plain": [
       "'946f0b6cf3c01f9a96bccbee7b8c1b52'"
      ]
     },
     "execution_count": 5,
     "metadata": {},
     "output_type": "execute_result"
    }
   ],
   "source": [
    "import private\n",
    "private.secret.open_weather_key"
   ]
  },
  {
   "cell_type": "code",
   "execution_count": 6,
   "metadata": {},
   "outputs": [
    {
     "data": {
      "text/plain": [
       "'https://api.openweathermap.org/data/2.5/forecast?q=Hualien,tw&APPID=946f0b6cf3c01f9a96bccbee7b8c1b52&lang=zh_tw&units=metric'"
      ]
     },
     "execution_count": 6,
     "metadata": {},
     "output_type": "execute_result"
    }
   ],
   "source": [
    "api_key = private.secret.open_weather_key\n",
    "url = f\"https://api.openweathermap.org/data/2.5/forecast?q=Hualien,tw&APPID={api_key}&lang=zh_tw&units=metric\"\n",
    "url\n"
   ]
  },
  {
   "cell_type": "code",
   "execution_count": null,
   "metadata": {},
   "outputs": [],
   "source": [
    "tw_county_names = {\"台北\": \"Taipei\",\n",
    "                   \"台中\": \"Taichung\",\n",
    "                   \"基隆\": \"Keelung\",\n",
    "                   \"台南\": \"Tainan\",\n",
    "                   \"高雄\": \"Kaohsiung\",\n",
    "                   \"新北\": \"New Taipei\",\n",
    "                   \"宜蘭\": \"Yilan\",\n",
    "                   \"桃園\": \"Taoyuan\",\n",
    "                   \"嘉義\": \"Chiayi\",\n",
    "                   \"新竹\": \"Hsinchu\",\n",
    "                   \"苗栗\": \"Miaoli\",\n",
    "                   \"南投\": \"Nantou\",\n",
    "                   \"彰化\": \"Changhua\",\n",
    "                   \"雲林\": \"Yunlin\",\n",
    "                   \"屏東\": \"Pingtung\",\n",
    "                   \"花蓮\": \"Hualien\",\n",
    "                   \"台東\": \"Taitung\",\n",
    "                   \"金門\": \"Kinmen\",\n",
    "                   \"澎湖\": \"Penghu\",\n",
    "                   \"連江\": \"Lienchiang\"\n",
    "                   }\n"
   ]
  },
  {
   "cell_type": "code",
   "execution_count": 8,
   "metadata": {},
   "outputs": [
    {
     "name": "stdout",
     "output_type": "stream",
     "text": [
      "下載成功\n",
      "{'id': 1674502, 'name': 'Hualien', 'coord': {'lat': 23.7817, 'lon': 121.3933}, 'country': 'TW', 'population': 0, 'timezone': 28800, 'sunrise': 1668377291, 'sunset': 1668416974}\n"
     ]
    }
   ],
   "source": [
    "import requests\n",
    "response = requests.get(url)\n",
    "if response.ok:\n",
    "    print('下載成功')\n",
    "    alldata = response.json()\n",
    "    city = alldata['city']\n",
    "    print(city)"
   ]
  }
 ],
 "metadata": {
  "kernelspec": {
   "display_name": "Python 3.10.7 ('venv06')",
   "language": "python",
   "name": "python3"
  },
  "language_info": {
   "codemirror_mode": {
    "name": "ipython",
    "version": 3
   },
   "file_extension": ".py",
   "mimetype": "text/x-python",
   "name": "python",
   "nbconvert_exporter": "python",
   "pygments_lexer": "ipython3",
   "version": "3.10.7"
  },
  "orig_nbformat": 4,
  "vscode": {
   "interpreter": {
    "hash": "d10f95f331b5c46e5dc52967be913ee774ec5a48f6841d54feb25c7b6beb8a18"
   }
  }
 },
 "nbformat": 4,
 "nbformat_minor": 2
}
